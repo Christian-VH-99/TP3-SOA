{
  "nbformat": 4,
  "nbformat_minor": 0,
  "metadata": {
    "colab": {
      "name": "Ejercicio1-BoxBlur.ipynb",
      "provenance": [],
      "authorship_tag": "ABX9TyNBIIBLtDUczf+5wa5jq35G",
      "include_colab_link": true
    },
    "kernelspec": {
      "name": "python3",
      "display_name": "Python 3"
    },
    "language_info": {
      "name": "python"
    }
  },
  "cells": [
    {
      "cell_type": "markdown",
      "metadata": {
        "id": "view-in-github",
        "colab_type": "text"
      },
      "source": [
        "<a href=\"https://colab.research.google.com/github/Christian-VH-99/TP3-SOA/blob/main/Ejercicio1_BoxBlur.ipynb\" target=\"_parent\"><img src=\"https://colab.research.google.com/assets/colab-badge.svg\" alt=\"Open In Colab\"/></a>"
      ]
    },
    {
      "cell_type": "markdown",
      "metadata": {
        "id": "-JjAWvY17PGJ"
      },
      "source": [
        "# **1 Introduccion**\n",
        "\n",
        "El siguiente codigo aplica una efecto de  \"blur\" en una imagen parametrizada. El efecto de blur se realiza a trafez de un desenfoque Gausseano donde lo que se hace es cada pixel \"expandirlo\" haciendo que la imagen no se vea con nitedez. "
      ]
    }
  ]
}